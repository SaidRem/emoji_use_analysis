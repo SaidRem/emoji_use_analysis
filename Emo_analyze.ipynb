{
 "cells": [
  {
   "cell_type": "code",
   "execution_count": 1,
   "metadata": {},
   "outputs": [],
   "source": [
    "import csv\n",
    "import pandas as pd"
   ]
  },
  {
   "cell_type": "code",
   "execution_count": 2,
   "metadata": {},
   "outputs": [],
   "source": [
    "df = pd.read_csv('EmojiData.csv', delimiter=',')"
   ]
  },
  {
   "cell_type": "code",
   "execution_count": 3,
   "metadata": {},
   "outputs": [
    {
     "data": {
      "text/html": [
       "<div>\n",
       "<style scoped>\n",
       "    .dataframe tbody tr th:only-of-type {\n",
       "        vertical-align: middle;\n",
       "    }\n",
       "\n",
       "    .dataframe tbody tr th {\n",
       "        vertical-align: top;\n",
       "    }\n",
       "\n",
       "    .dataframe thead th {\n",
       "        text-align: right;\n",
       "    }\n",
       "</style>\n",
       "<table border=\"1\" class=\"dataframe\">\n",
       "  <thead>\n",
       "    <tr style=\"text-align: right;\">\n",
       "      <th></th>\n",
       "      <th>Name</th>\n",
       "      <th>icon</th>\n",
       "      <th>EmojiXpress, mln</th>\n",
       "      <th>Instagram, mln</th>\n",
       "      <th>Twitter, mln</th>\n",
       "    </tr>\n",
       "  </thead>\n",
       "  <tbody>\n",
       "    <tr>\n",
       "      <th>0</th>\n",
       "      <td>Grinning</td>\n",
       "      <td>![image](https://pictures.s3.yandex.net/resour...</td>\n",
       "      <td>2.2600</td>\n",
       "      <td>1.020</td>\n",
       "      <td>87.3</td>\n",
       "    </tr>\n",
       "    <tr>\n",
       "      <th>1</th>\n",
       "      <td>Beaming</td>\n",
       "      <td>![image](https://pictures.s3.yandex.net/resour...</td>\n",
       "      <td>19.1000</td>\n",
       "      <td>1.690</td>\n",
       "      <td>150.0</td>\n",
       "    </tr>\n",
       "    <tr>\n",
       "      <th>2</th>\n",
       "      <td>ROFL</td>\n",
       "      <td>![image](https://pictures.s3.yandex.net/resour...</td>\n",
       "      <td>25.6000</td>\n",
       "      <td>0.774</td>\n",
       "      <td>0.0</td>\n",
       "    </tr>\n",
       "    <tr>\n",
       "      <th>3</th>\n",
       "      <td>Tears of Joy</td>\n",
       "      <td>![image](https://pictures.s3.yandex.net/resour...</td>\n",
       "      <td>233.0000</td>\n",
       "      <td>7.310</td>\n",
       "      <td>2270.0</td>\n",
       "    </tr>\n",
       "    <tr>\n",
       "      <th>4</th>\n",
       "      <td>Winking</td>\n",
       "      <td>![image](https://pictures.s3.yandex.net/resour...</td>\n",
       "      <td>15.2000</td>\n",
       "      <td>2.360</td>\n",
       "      <td>264.0</td>\n",
       "    </tr>\n",
       "    <tr>\n",
       "      <th>5</th>\n",
       "      <td>Happy</td>\n",
       "      <td>![image](https://pictures.s3.yandex.net/resour...</td>\n",
       "      <td>22.7000</td>\n",
       "      <td>4.260</td>\n",
       "      <td>565.0</td>\n",
       "    </tr>\n",
       "    <tr>\n",
       "      <th>6</th>\n",
       "      <td>Heart Eyes</td>\n",
       "      <td>![image](https://pictures.s3.yandex.net/resour...</td>\n",
       "      <td>64.6000</td>\n",
       "      <td>11.200</td>\n",
       "      <td>834.0</td>\n",
       "    </tr>\n",
       "    <tr>\n",
       "      <th>7</th>\n",
       "      <td>Kissing</td>\n",
       "      <td>![image](https://pictures.s3.yandex.net/resour...</td>\n",
       "      <td>87.5000</td>\n",
       "      <td>5.130</td>\n",
       "      <td>432.0</td>\n",
       "    </tr>\n",
       "    <tr>\n",
       "      <th>8</th>\n",
       "      <td>Thinking</td>\n",
       "      <td>![image](https://pictures.s3.yandex.net/resour...</td>\n",
       "      <td>6.8100</td>\n",
       "      <td>0.636</td>\n",
       "      <td>0.0</td>\n",
       "    </tr>\n",
       "    <tr>\n",
       "      <th>9</th>\n",
       "      <td>Unamused</td>\n",
       "      <td>![image](https://pictures.s3.yandex.net/resour...</td>\n",
       "      <td>6.0000</td>\n",
       "      <td>0.236</td>\n",
       "      <td>478.0</td>\n",
       "    </tr>\n",
       "    <tr>\n",
       "      <th>10</th>\n",
       "      <td>Sunglasses</td>\n",
       "      <td>![image](https://pictures.s3.yandex.net/resour...</td>\n",
       "      <td>4.7200</td>\n",
       "      <td>3.930</td>\n",
       "      <td>198.0</td>\n",
       "    </tr>\n",
       "    <tr>\n",
       "      <th>11</th>\n",
       "      <td>Loudly Crying</td>\n",
       "      <td>![image](https://pictures.s3.yandex.net/resour...</td>\n",
       "      <td>24.7000</td>\n",
       "      <td>1.350</td>\n",
       "      <td>654.0</td>\n",
       "    </tr>\n",
       "    <tr>\n",
       "      <th>12</th>\n",
       "      <td>Kiss Mark</td>\n",
       "      <td>![image](https://pictures.s3.yandex.net/resour...</td>\n",
       "      <td>21.7000</td>\n",
       "      <td>2.870</td>\n",
       "      <td>98.7</td>\n",
       "    </tr>\n",
       "    <tr>\n",
       "      <th>13</th>\n",
       "      <td>Two Hearts</td>\n",
       "      <td>![image](https://pictures.s3.yandex.net/resour...</td>\n",
       "      <td>10.0000</td>\n",
       "      <td>5.690</td>\n",
       "      <td>445.0</td>\n",
       "    </tr>\n",
       "    <tr>\n",
       "      <th>14</th>\n",
       "      <td>Heart</td>\n",
       "      <td>![image](https://pictures.s3.yandex.net/resour...</td>\n",
       "      <td>118.0000</td>\n",
       "      <td>26.000</td>\n",
       "      <td>1080.0</td>\n",
       "    </tr>\n",
       "    <tr>\n",
       "      <th>15</th>\n",
       "      <td>Heart Suit</td>\n",
       "      <td>![image](https://pictures.s3.yandex.net/resour...</td>\n",
       "      <td>3.3100</td>\n",
       "      <td>1.820</td>\n",
       "      <td>697.0</td>\n",
       "    </tr>\n",
       "    <tr>\n",
       "      <th>16</th>\n",
       "      <td>Thumbs Up</td>\n",
       "      <td>![image](https://pictures.s3.yandex.net/resour...</td>\n",
       "      <td>23.1000</td>\n",
       "      <td>3.750</td>\n",
       "      <td>227.0</td>\n",
       "    </tr>\n",
       "    <tr>\n",
       "      <th>17</th>\n",
       "      <td>Shrugging</td>\n",
       "      <td>![image](https://pictures.s3.yandex.net/resour...</td>\n",
       "      <td>1.7400</td>\n",
       "      <td>0.110</td>\n",
       "      <td>0.0</td>\n",
       "    </tr>\n",
       "    <tr>\n",
       "      <th>18</th>\n",
       "      <td>Fire</td>\n",
       "      <td>![image](https://pictures.s3.yandex.net/resour...</td>\n",
       "      <td>4.5000</td>\n",
       "      <td>2.490</td>\n",
       "      <td>150.0</td>\n",
       "    </tr>\n",
       "    <tr>\n",
       "      <th>19</th>\n",
       "      <td>Recycle</td>\n",
       "      <td>![image](https://pictures.s3.yandex.net/resour...</td>\n",
       "      <td>0.0333</td>\n",
       "      <td>0.056</td>\n",
       "      <td>932.0</td>\n",
       "    </tr>\n",
       "  </tbody>\n",
       "</table>\n",
       "</div>"
      ],
      "text/plain": [
       "             Name                                               icon  \\\n",
       "0        Grinning  ![image](https://pictures.s3.yandex.net/resour...   \n",
       "1         Beaming  ![image](https://pictures.s3.yandex.net/resour...   \n",
       "2            ROFL  ![image](https://pictures.s3.yandex.net/resour...   \n",
       "3    Tears of Joy  ![image](https://pictures.s3.yandex.net/resour...   \n",
       "4         Winking  ![image](https://pictures.s3.yandex.net/resour...   \n",
       "5           Happy  ![image](https://pictures.s3.yandex.net/resour...   \n",
       "6      Heart Eyes  ![image](https://pictures.s3.yandex.net/resour...   \n",
       "7         Kissing  ![image](https://pictures.s3.yandex.net/resour...   \n",
       "8        Thinking  ![image](https://pictures.s3.yandex.net/resour...   \n",
       "9        Unamused  ![image](https://pictures.s3.yandex.net/resour...   \n",
       "10     Sunglasses  ![image](https://pictures.s3.yandex.net/resour...   \n",
       "11  Loudly Crying  ![image](https://pictures.s3.yandex.net/resour...   \n",
       "12      Kiss Mark  ![image](https://pictures.s3.yandex.net/resour...   \n",
       "13     Two Hearts  ![image](https://pictures.s3.yandex.net/resour...   \n",
       "14          Heart  ![image](https://pictures.s3.yandex.net/resour...   \n",
       "15     Heart Suit  ![image](https://pictures.s3.yandex.net/resour...   \n",
       "16      Thumbs Up  ![image](https://pictures.s3.yandex.net/resour...   \n",
       "17      Shrugging  ![image](https://pictures.s3.yandex.net/resour...   \n",
       "18           Fire  ![image](https://pictures.s3.yandex.net/resour...   \n",
       "19        Recycle  ![image](https://pictures.s3.yandex.net/resour...   \n",
       "\n",
       "    EmojiXpress, mln  Instagram, mln  Twitter, mln  \n",
       "0             2.2600           1.020          87.3  \n",
       "1            19.1000           1.690         150.0  \n",
       "2            25.6000           0.774           0.0  \n",
       "3           233.0000           7.310        2270.0  \n",
       "4            15.2000           2.360         264.0  \n",
       "5            22.7000           4.260         565.0  \n",
       "6            64.6000          11.200         834.0  \n",
       "7            87.5000           5.130         432.0  \n",
       "8             6.8100           0.636           0.0  \n",
       "9             6.0000           0.236         478.0  \n",
       "10            4.7200           3.930         198.0  \n",
       "11           24.7000           1.350         654.0  \n",
       "12           21.7000           2.870          98.7  \n",
       "13           10.0000           5.690         445.0  \n",
       "14          118.0000          26.000        1080.0  \n",
       "15            3.3100           1.820         697.0  \n",
       "16           23.1000           3.750         227.0  \n",
       "17            1.7400           0.110           0.0  \n",
       "18            4.5000           2.490         150.0  \n",
       "19            0.0333           0.056         932.0  "
      ]
     },
     "execution_count": 3,
     "metadata": {},
     "output_type": "execute_result"
    }
   ],
   "source": [
    "df"
   ]
  },
  {
   "cell_type": "code",
   "execution_count": 4,
   "metadata": {},
   "outputs": [],
   "source": [
    "top_EmojiXpress = df[['Name', 'EmojiXpress, mln']].sort_values('EmojiXpress, mln', ascending=False).head()"
   ]
  },
  {
   "cell_type": "code",
   "execution_count": 5,
   "metadata": {},
   "outputs": [],
   "source": [
    "top_Instagram = df[['Name', 'Instagram, mln']].sort_values('Instagram, mln', ascending=False).head()"
   ]
  },
  {
   "cell_type": "code",
   "execution_count": 6,
   "metadata": {},
   "outputs": [],
   "source": [
    "top_Twitter = df[['Name', 'Twitter, mln']].sort_values('Twitter, mln', ascending=False).head()"
   ]
  },
  {
   "cell_type": "code",
   "execution_count": 7,
   "metadata": {},
   "outputs": [
    {
     "data": {
      "text/html": [
       "<div>\n",
       "<style scoped>\n",
       "    .dataframe tbody tr th:only-of-type {\n",
       "        vertical-align: middle;\n",
       "    }\n",
       "\n",
       "    .dataframe tbody tr th {\n",
       "        vertical-align: top;\n",
       "    }\n",
       "\n",
       "    .dataframe thead th {\n",
       "        text-align: right;\n",
       "    }\n",
       "</style>\n",
       "<table border=\"1\" class=\"dataframe\">\n",
       "  <thead>\n",
       "    <tr style=\"text-align: right;\">\n",
       "      <th></th>\n",
       "      <th>Name</th>\n",
       "      <th>EmojiXpress, mln</th>\n",
       "    </tr>\n",
       "  </thead>\n",
       "  <tbody>\n",
       "    <tr>\n",
       "      <th>3</th>\n",
       "      <td>Tears of Joy</td>\n",
       "      <td>233.0</td>\n",
       "    </tr>\n",
       "    <tr>\n",
       "      <th>14</th>\n",
       "      <td>Heart</td>\n",
       "      <td>118.0</td>\n",
       "    </tr>\n",
       "    <tr>\n",
       "      <th>7</th>\n",
       "      <td>Kissing</td>\n",
       "      <td>87.5</td>\n",
       "    </tr>\n",
       "    <tr>\n",
       "      <th>6</th>\n",
       "      <td>Heart Eyes</td>\n",
       "      <td>64.6</td>\n",
       "    </tr>\n",
       "    <tr>\n",
       "      <th>2</th>\n",
       "      <td>ROFL</td>\n",
       "      <td>25.6</td>\n",
       "    </tr>\n",
       "  </tbody>\n",
       "</table>\n",
       "</div>"
      ],
      "text/plain": [
       "            Name  EmojiXpress, mln\n",
       "3   Tears of Joy             233.0\n",
       "14         Heart             118.0\n",
       "7        Kissing              87.5\n",
       "6     Heart Eyes              64.6\n",
       "2           ROFL              25.6"
      ]
     },
     "execution_count": 7,
     "metadata": {},
     "output_type": "execute_result"
    }
   ],
   "source": [
    "top_EmojiXpress"
   ]
  },
  {
   "cell_type": "code",
   "execution_count": 8,
   "metadata": {},
   "outputs": [
    {
     "data": {
      "text/html": [
       "<div>\n",
       "<style scoped>\n",
       "    .dataframe tbody tr th:only-of-type {\n",
       "        vertical-align: middle;\n",
       "    }\n",
       "\n",
       "    .dataframe tbody tr th {\n",
       "        vertical-align: top;\n",
       "    }\n",
       "\n",
       "    .dataframe thead th {\n",
       "        text-align: right;\n",
       "    }\n",
       "</style>\n",
       "<table border=\"1\" class=\"dataframe\">\n",
       "  <thead>\n",
       "    <tr style=\"text-align: right;\">\n",
       "      <th></th>\n",
       "      <th>Name</th>\n",
       "      <th>Instagram, mln</th>\n",
       "    </tr>\n",
       "  </thead>\n",
       "  <tbody>\n",
       "    <tr>\n",
       "      <th>14</th>\n",
       "      <td>Heart</td>\n",
       "      <td>26.00</td>\n",
       "    </tr>\n",
       "    <tr>\n",
       "      <th>6</th>\n",
       "      <td>Heart Eyes</td>\n",
       "      <td>11.20</td>\n",
       "    </tr>\n",
       "    <tr>\n",
       "      <th>3</th>\n",
       "      <td>Tears of Joy</td>\n",
       "      <td>7.31</td>\n",
       "    </tr>\n",
       "    <tr>\n",
       "      <th>13</th>\n",
       "      <td>Two Hearts</td>\n",
       "      <td>5.69</td>\n",
       "    </tr>\n",
       "    <tr>\n",
       "      <th>7</th>\n",
       "      <td>Kissing</td>\n",
       "      <td>5.13</td>\n",
       "    </tr>\n",
       "  </tbody>\n",
       "</table>\n",
       "</div>"
      ],
      "text/plain": [
       "            Name  Instagram, mln\n",
       "14         Heart           26.00\n",
       "6     Heart Eyes           11.20\n",
       "3   Tears of Joy            7.31\n",
       "13    Two Hearts            5.69\n",
       "7        Kissing            5.13"
      ]
     },
     "execution_count": 8,
     "metadata": {},
     "output_type": "execute_result"
    }
   ],
   "source": [
    "top_Instagram"
   ]
  },
  {
   "cell_type": "code",
   "execution_count": 9,
   "metadata": {},
   "outputs": [
    {
     "data": {
      "text/html": [
       "<div>\n",
       "<style scoped>\n",
       "    .dataframe tbody tr th:only-of-type {\n",
       "        vertical-align: middle;\n",
       "    }\n",
       "\n",
       "    .dataframe tbody tr th {\n",
       "        vertical-align: top;\n",
       "    }\n",
       "\n",
       "    .dataframe thead th {\n",
       "        text-align: right;\n",
       "    }\n",
       "</style>\n",
       "<table border=\"1\" class=\"dataframe\">\n",
       "  <thead>\n",
       "    <tr style=\"text-align: right;\">\n",
       "      <th></th>\n",
       "      <th>Name</th>\n",
       "      <th>Twitter, mln</th>\n",
       "    </tr>\n",
       "  </thead>\n",
       "  <tbody>\n",
       "    <tr>\n",
       "      <th>3</th>\n",
       "      <td>Tears of Joy</td>\n",
       "      <td>2270.0</td>\n",
       "    </tr>\n",
       "    <tr>\n",
       "      <th>14</th>\n",
       "      <td>Heart</td>\n",
       "      <td>1080.0</td>\n",
       "    </tr>\n",
       "    <tr>\n",
       "      <th>19</th>\n",
       "      <td>Recycle</td>\n",
       "      <td>932.0</td>\n",
       "    </tr>\n",
       "    <tr>\n",
       "      <th>6</th>\n",
       "      <td>Heart Eyes</td>\n",
       "      <td>834.0</td>\n",
       "    </tr>\n",
       "    <tr>\n",
       "      <th>15</th>\n",
       "      <td>Heart Suit</td>\n",
       "      <td>697.0</td>\n",
       "    </tr>\n",
       "  </tbody>\n",
       "</table>\n",
       "</div>"
      ],
      "text/plain": [
       "            Name  Twitter, mln\n",
       "3   Tears of Joy        2270.0\n",
       "14         Heart        1080.0\n",
       "19       Recycle         932.0\n",
       "6     Heart Eyes         834.0\n",
       "15    Heart Suit         697.0"
      ]
     },
     "execution_count": 9,
     "metadata": {},
     "output_type": "execute_result"
    }
   ],
   "source": [
    "top_Twitter"
   ]
  },
  {
   "cell_type": "markdown",
   "metadata": {},
   "source": [
    "\n",
    "We can't sort by the data of Twitter alone - an artifact has fallen into the data.\n",
    "<p>'Recycle' here looks suspicious. So sorting by others is risky: what if there are hidden problems too?</p>\n",
    "<p>We need a more reliable criterion for the popularity of emoji.</p>\n"
   ]
  },
  {
   "cell_type": "code",
   "execution_count": null,
   "metadata": {},
   "outputs": [],
   "source": []
  },
  {
   "cell_type": "code",
   "execution_count": 10,
   "metadata": {},
   "outputs": [],
   "source": [
    "with open('EmojiData.csv') as f:\n",
    "    df1 = list(csv.DictReader(f))"
   ]
  },
  {
   "cell_type": "code",
   "execution_count": 11,
   "metadata": {},
   "outputs": [
    {
     "data": {
      "text/plain": [
       "{'Name': 'Grinning',\n",
       " 'icon': '![image](https://pictures.s3.yandex.net/resources/grinning_1548433261.png)',\n",
       " 'EmojiXpress, mln': '2.26',\n",
       " 'Instagram, mln': '1.02',\n",
       " 'Twitter, mln': '87.3'}"
      ]
     },
     "execution_count": 11,
     "metadata": {},
     "output_type": "execute_result"
    }
   ],
   "source": [
    "df1[0]"
   ]
  },
  {
   "cell_type": "code",
   "execution_count": 25,
   "metadata": {},
   "outputs": [
    {
     "name": "stdout",
     "output_type": "stream",
     "text": [
      "Emoji name      |   Twitter/Instagram ratio\n",
      "-------------------------------------------\n",
      "Grinning        |                     85.59\n",
      "Beaming         |                     88.76\n",
      "ROFL            |                      0.00\n",
      "Tears of Joy    |                    310.53\n",
      "Winking         |                    111.86\n",
      "Happy           |                    132.63\n",
      "Heart Eyes      |                     74.46\n",
      "Kissing         |                     84.21\n",
      "Thinking        |                      0.00\n",
      "Unamused        |                   2025.42\n",
      "Sunglasses      |                     50.38\n",
      "Loudly Crying   |                    484.44\n",
      "Kiss Mark       |                     34.39\n",
      "Two Hearts      |                     78.21\n",
      "Heart           |                     41.54\n",
      "Heart Suit      |                    382.97\n",
      "Thumbs Up       |                     60.53\n",
      "Shrugging       |                      0.00\n",
      "Fire            |                     60.24\n",
      "Recycle         |                  16642.86\n"
     ]
    }
   ],
   "source": [
    "print('{: <15} | {: >25}'.format('Emoji name', 'Twitter/Instagram ratio'))\n",
    "print('-'*43)\n",
    "for emoji in df1:\n",
    "    print('{: <15} | {: >25.2f}'.format(emoji['Name'], \n",
    "                                        float(emoji['Twitter, mln'])/float(emoji['Instagram, mln']))\n",
    "         )"
   ]
  },
  {
   "cell_type": "markdown",
   "metadata": {},
   "source": [
    "<p>Conclusions:</p>\n",
    "<p>Many values deviate 100 times from the average ratio.\n",
    "But most striking is the “Recycling” emoji with incredible popularity\n",
    "it is on Twitter (16 thousand times more than on Instagram).\n",
    "I investigated this phenomenon and found out that posts with emoji “Recycling”\n",
    "presumably created automatically, and completely put in\n",
    "another meaning (more details can be found here:\n",
    "https://medium.com/@mroth/why-the-emoji-recycling-symbol-is-taking-over-twitter-65ad4b18b04b).\n",
    "</p>\n",
    "<p>Emoji statistics have a heavy tail - people love variety.\n",
    "Different platforms have different emoji preferences.\n",
    "There are also very strange features - for example, as with the symbol \"Recycling\".\n",
    "</p>"
   ]
  },
  {
   "cell_type": "code",
   "execution_count": 12,
   "metadata": {
    "scrolled": true
   },
   "outputs": [],
   "source": [
    "sum_use = 0\n",
    "sum_use_all = []"
   ]
  },
  {
   "cell_type": "code",
   "execution_count": 13,
   "metadata": {},
   "outputs": [],
   "source": [
    "for emoji in df1:\n",
    "    name = emoji['Name']\n",
    "    sum_use = round(float(emoji['EmojiXpress, mln']) + float(emoji['Instagram, mln']) \n",
    "               + float(emoji['Twitter, mln']), 2)\n",
    "    sum_use_all.append([name, sum_use])\n",
    "    sum_use = 0\n"
   ]
  },
  {
   "cell_type": "code",
   "execution_count": 14,
   "metadata": {},
   "outputs": [
    {
     "data": {
      "text/plain": [
       "[['Grinning', 90.58],\n",
       " ['Beaming', 170.79],\n",
       " ['ROFL', 26.37],\n",
       " ['Tears of Joy', 2510.31],\n",
       " ['Winking', 281.56],\n",
       " ['Happy', 591.96],\n",
       " ['Heart Eyes', 909.8],\n",
       " ['Kissing', 524.63],\n",
       " ['Thinking', 7.45],\n",
       " ['Unamused', 484.24],\n",
       " ['Sunglasses', 206.65],\n",
       " ['Loudly Crying', 680.05],\n",
       " ['Kiss Mark', 123.27],\n",
       " ['Two Hearts', 460.69],\n",
       " ['Heart', 1224.0],\n",
       " ['Heart Suit', 702.13],\n",
       " ['Thumbs Up', 253.85],\n",
       " ['Shrugging', 1.85],\n",
       " ['Fire', 156.99],\n",
       " ['Recycle', 932.09]]"
      ]
     },
     "execution_count": 14,
     "metadata": {},
     "output_type": "execute_result"
    }
   ],
   "source": [
    "sum_use_all"
   ]
  },
  {
   "cell_type": "code",
   "execution_count": 15,
   "metadata": {},
   "outputs": [],
   "source": [
    "sum_use_all.sort(key = lambda n: n[1], reverse = True)"
   ]
  },
  {
   "cell_type": "code",
   "execution_count": 16,
   "metadata": {},
   "outputs": [
    {
     "data": {
      "text/plain": [
       "[['Tears of Joy', 2510.31],\n",
       " ['Heart', 1224.0],\n",
       " ['Recycle', 932.09],\n",
       " ['Heart Eyes', 909.8],\n",
       " ['Heart Suit', 702.13]]"
      ]
     },
     "execution_count": 16,
     "metadata": {},
     "output_type": "execute_result"
    }
   ],
   "source": [
    "sum_use_all[:5]"
   ]
  },
  {
   "cell_type": "markdown",
   "metadata": {},
   "source": [
    "Recycle still in top 5.\n",
    "<p>Calculate a new value for the analysis of the popularity of emojis:\n",
    "for each column its scale is estimated (as an average value);\n",
    "each value in the column is normalized (divided by scale);\n",
    "normalized values add up.</p>\n",
    "<p>Call this amount the “usage index”.</p>"
   ]
  },
  {
   "cell_type": "code",
   "execution_count": 17,
   "metadata": {},
   "outputs": [],
   "source": [
    "emojixpress_sum = 0\n",
    "instagram_sum = 0\n",
    "twitter_sum = 0\n",
    "for row in df1:\n",
    "    emojixpress_sum += float(row['EmojiXpress, mln'])\n",
    "    instagram_sum += float(row['Instagram, mln'])\n",
    "    twitter_sum += float(row['Twitter, mln'])\n",
    "    \n",
    "emojixpress_mean = emojixpress_sum / len(df1)\n",
    "instagram_mean = instagram_sum / len(df1)\n",
    "twitter_mean = twitter_sum / len(df1)"
   ]
  },
  {
   "cell_type": "code",
   "execution_count": 18,
   "metadata": {},
   "outputs": [],
   "source": [
    "data_norm = []\n",
    "for row in df1:\n",
    "    emojixpress_normalized = float(row['EmojiXpress, mln']) / emojixpress_mean\n",
    "    instagram_normalized = float(row['Instagram, mln']) / instagram_mean\n",
    "    twitter_normalized = float(row['Twitter, mln']) / twitter_mean\n",
    "    index = round((emojixpress_normalized + instagram_normalized + twitter_normalized), 2)\n",
    "    data_norm.append([row['Name'], index])"
   ]
  },
  {
   "cell_type": "code",
   "execution_count": 19,
   "metadata": {},
   "outputs": [],
   "source": [
    "data_norm.sort(key=lambda x: x[1], reverse=True)"
   ]
  },
  {
   "cell_type": "code",
   "execution_count": 20,
   "metadata": {},
   "outputs": [
    {
     "data": {
      "text/plain": [
       "[['Tears of Joy', 13.23],\n",
       " ['Heart', 11.95],\n",
       " ['Heart Eyes', 6.31],\n",
       " ['Kissing', 4.66],\n",
       " ['Happy', 2.87],\n",
       " ['Two Hearts', 2.6],\n",
       " ['Loudly Crying', 2.41],\n",
       " ['Thumbs Up', 2.05],\n",
       " ['Heart Suit', 1.99],\n",
       " ['Recycle', 1.96],\n",
       " ['Winking', 1.56],\n",
       " ['Kiss Mark', 1.53],\n",
       " ['Sunglasses', 1.5],\n",
       " ['Beaming', 1.27],\n",
       " ['Unamused', 1.23],\n",
       " ['Fire', 1.05],\n",
       " ['ROFL', 0.92],\n",
       " ['Grinning', 0.49],\n",
       " ['Thinking', 0.35],\n",
       " ['Shrugging', 0.08]]"
      ]
     },
     "execution_count": 20,
     "metadata": {},
     "output_type": "execute_result"
    }
   ],
   "source": [
    "data_norm"
   ]
  },
  {
   "cell_type": "markdown",
   "metadata": {},
   "source": [
    "<p>- The most popular emojis are associated with positive emotions - fun and love.</p>\n",
    "<p>- On different platforms, the order and choice of emojis is slightly different, \n",
    "but the most popular emojis are everywhere alike.</p>\n",
    "<p>- Individual resources have their own characteristics that generate statistical emissions, \n",
    "as is the case with the recycling symbol on Twitter. You can get rid of artifacts \n",
    "by collecting values from all platforms and rationing.</p>"
   ]
  },
  {
   "cell_type": "code",
   "execution_count": null,
   "metadata": {},
   "outputs": [],
   "source": []
  }
 ],
 "metadata": {
  "kernelspec": {
   "display_name": "Python 3",
   "language": "python",
   "name": "python3"
  },
  "language_info": {
   "codemirror_mode": {
    "name": "ipython",
    "version": 3
   },
   "file_extension": ".py",
   "mimetype": "text/x-python",
   "name": "python",
   "nbconvert_exporter": "python",
   "pygments_lexer": "ipython3",
   "version": "3.8.2"
  }
 },
 "nbformat": 4,
 "nbformat_minor": 4
}
